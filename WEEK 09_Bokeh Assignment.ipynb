{
 "cells": [
  {
   "cell_type": "markdown",
   "metadata": {},
   "source": [
    "**Q1.** How can you create a Bokeh plot using Python code?"
   ]
  },
  {
   "cell_type": "markdown",
   "metadata": {},
   "source": [
    "Import the necessary modules from Bokeh.\n",
    "\n",
    "Prepare the data you want to visualize.\n",
    "\n",
    "Create a plot figure using the figure function.\n",
    "\n",
    "Add visual elements (glyphs) to the figure using methods like .circle() or .line().\n",
    "\n",
    "Customize the appearance of the plot by setting attributes such as titles, axis labels, and colors.\n",
    "\n",
    "Display the plot in a web browser using the show function.\n",
    "\n",
    "Further customize the plot by exploring additional features like legends, tooltips, and interactivity."
   ]
  },
  {
   "cell_type": "code",
   "execution_count": 4,
   "metadata": {},
   "outputs": [
    {
     "data": {
      "text/html": [
       "<style>\n",
       "        .bk-notebook-logo {\n",
       "            display: block;\n",
       "            width: 20px;\n",
       "            height: 20px;\n",
       "            background-image: url(data:image/png;base64,iVBORw0KGgoAAAANSUhEUgAAABQAAAAUCAYAAACNiR0NAAAABHNCSVQICAgIfAhkiAAAAAlwSFlzAAALEgAACxIB0t1+/AAAABx0RVh0U29mdHdhcmUAQWRvYmUgRmlyZXdvcmtzIENTNui8sowAAAOkSURBVDiNjZRtaJVlGMd/1/08zzln5zjP1LWcU9N0NkN8m2CYjpgQYQXqSs0I84OLIC0hkEKoPtiH3gmKoiJDU7QpLgoLjLIQCpEsNJ1vqUOdO7ppbuec5+V+rj4ctwzd8IIbbi6u+8f1539dt3A78eXC7QizUF7gyV1fD1Yqg4JWz84yffhm0qkFqBogB9rM8tZdtwVsPUhWhGcFJngGeWrPzHm5oaMmkfEg1usvLFyc8jLRqDOMru7AyC8saQr7GG7f5fvDeH7Ej8CM66nIF+8yngt6HWaKh7k49Soy9nXurCi1o3qUbS3zWfrYeQDTB/Qj6kX6Ybhw4B+bOYoLKCC9H3Nu/leUTZ1JdRWkkn2ldcCamzrcf47KKXdAJllSlxAOkRgyHsGC/zRday5Qld9DyoM4/q/rUoy/CXh3jzOu3bHUVZeU+DEn8FInkPBFlu3+nW3Nw0mk6vCDiWg8CeJaxEwuHS3+z5RgY+YBR6V1Z1nxSOfoaPa4LASWxxdNp+VWTk7+4vzaou8v8PN+xo+KY2xsw6une2frhw05CTYOmQvsEhjhWjn0bmXPjpE1+kplmmkP3suftwTubK9Vq22qKmrBhpY4jvd5afdRA3wGjFAgcnTK2s4hY0/GPNIb0nErGMCRxWOOX64Z8RAC4oCXdklmEvcL8o0BfkNK4lUg9HTl+oPlQxdNo3Mg4Nv175e/1LDGzZen30MEjRUtmXSfiTVu1kK8W4txyV6BMKlbgk3lMwYCiusNy9fVfvvwMxv8Ynl6vxoByANLTWplvuj/nF9m2+PDtt1eiHPBr1oIfhCChQMBw6Aw0UulqTKZdfVvfG7VcfIqLG9bcldL/+pdWTLxLUy8Qq38heUIjh4XlzZxzQm19lLFlr8vdQ97rjZVOLf8nclzckbcD4wxXMidpX30sFd37Fv/GtwwhzhxGVAprjbg0gCAEeIgwCZyTV2Z1REEW8O4py0wsjeloKoMr6iCY6dP92H6Vw/oTyICIthibxjm/DfN9lVz8IqtqKYLUXfoKVMVQVVJOElGjrnnUt9T9wbgp8AyYKaGlqingHZU/uG2NTZSVqwHQTWkx9hxjkpWDaCg6Ckj5qebgBVbT3V3NNXMSiWSDdGV3hrtzla7J+duwPOToIg42ChPQOQjspnSlp1V+Gjdged7+8UN5CRAV7a5EdFNwCjEaBR27b3W890TE7g24NAP/mMDXRWrGoFPQI9ls/MWO2dWFAar/xcOIImbbpA3zgAAAABJRU5ErkJggg==);\n",
       "        }\n",
       "    </style>\n",
       "    <div>\n",
       "        <a href=\"https://bokeh.org\" target=\"_blank\" class=\"bk-notebook-logo\"></a>\n",
       "        <span id=\"b9c3268b-b8eb-46f2-9c14-f3424a9b999b\">Loading BokehJS ...</span>\n",
       "    </div>\n"
      ]
     },
     "metadata": {},
     "output_type": "display_data"
    },
    {
     "data": {
      "application/javascript": "(function(root) {\n  function now() {\n    return new Date();\n  }\n\n  const force = true;\n\n  if (typeof root._bokeh_onload_callbacks === \"undefined\" || force === true) {\n    root._bokeh_onload_callbacks = [];\n    root._bokeh_is_loading = undefined;\n  }\n\nconst JS_MIME_TYPE = 'application/javascript';\n  const HTML_MIME_TYPE = 'text/html';\n  const EXEC_MIME_TYPE = 'application/vnd.bokehjs_exec.v0+json';\n  const CLASS_NAME = 'output_bokeh rendered_html';\n\n  /**\n   * Render data to the DOM node\n   */\n  function render(props, node) {\n    const script = document.createElement(\"script\");\n    node.appendChild(script);\n  }\n\n  /**\n   * Handle when an output is cleared or removed\n   */\n  function handleClearOutput(event, handle) {\n    const cell = handle.cell;\n\n    const id = cell.output_area._bokeh_element_id;\n    const server_id = cell.output_area._bokeh_server_id;\n    // Clean up Bokeh references\n    if (id != null && id in Bokeh.index) {\n      Bokeh.index[id].model.document.clear();\n      delete Bokeh.index[id];\n    }\n\n    if (server_id !== undefined) {\n      // Clean up Bokeh references\n      const cmd_clean = \"from bokeh.io.state import curstate; print(curstate().uuid_to_server['\" + server_id + \"'].get_sessions()[0].document.roots[0]._id)\";\n      cell.notebook.kernel.execute(cmd_clean, {\n        iopub: {\n          output: function(msg) {\n            const id = msg.content.text.trim();\n            if (id in Bokeh.index) {\n              Bokeh.index[id].model.document.clear();\n              delete Bokeh.index[id];\n            }\n          }\n        }\n      });\n      // Destroy server and session\n      const cmd_destroy = \"import bokeh.io.notebook as ion; ion.destroy_server('\" + server_id + \"')\";\n      cell.notebook.kernel.execute(cmd_destroy);\n    }\n  }\n\n  /**\n   * Handle when a new output is added\n   */\n  function handleAddOutput(event, handle) {\n    const output_area = handle.output_area;\n    const output = handle.output;\n\n    // limit handleAddOutput to display_data with EXEC_MIME_TYPE content only\n    if ((output.output_type != \"display_data\") || (!Object.prototype.hasOwnProperty.call(output.data, EXEC_MIME_TYPE))) {\n      return\n    }\n\n    const toinsert = output_area.element.find(\".\" + CLASS_NAME.split(' ')[0]);\n\n    if (output.metadata[EXEC_MIME_TYPE][\"id\"] !== undefined) {\n      toinsert[toinsert.length - 1].firstChild.textContent = output.data[JS_MIME_TYPE];\n      // store reference to embed id on output_area\n      output_area._bokeh_element_id = output.metadata[EXEC_MIME_TYPE][\"id\"];\n    }\n    if (output.metadata[EXEC_MIME_TYPE][\"server_id\"] !== undefined) {\n      const bk_div = document.createElement(\"div\");\n      bk_div.innerHTML = output.data[HTML_MIME_TYPE];\n      const script_attrs = bk_div.children[0].attributes;\n      for (let i = 0; i < script_attrs.length; i++) {\n        toinsert[toinsert.length - 1].firstChild.setAttribute(script_attrs[i].name, script_attrs[i].value);\n        toinsert[toinsert.length - 1].firstChild.textContent = bk_div.children[0].textContent\n      }\n      // store reference to server id on output_area\n      output_area._bokeh_server_id = output.metadata[EXEC_MIME_TYPE][\"server_id\"];\n    }\n  }\n\n  function register_renderer(events, OutputArea) {\n\n    function append_mime(data, metadata, element) {\n      // create a DOM node to render to\n      const toinsert = this.create_output_subarea(\n        metadata,\n        CLASS_NAME,\n        EXEC_MIME_TYPE\n      );\n      this.keyboard_manager.register_events(toinsert);\n      // Render to node\n      const props = {data: data, metadata: metadata[EXEC_MIME_TYPE]};\n      render(props, toinsert[toinsert.length - 1]);\n      element.append(toinsert);\n      return toinsert\n    }\n\n    /* Handle when an output is cleared or removed */\n    events.on('clear_output.CodeCell', handleClearOutput);\n    events.on('delete.Cell', handleClearOutput);\n\n    /* Handle when a new output is added */\n    events.on('output_added.OutputArea', handleAddOutput);\n\n    /**\n     * Register the mime type and append_mime function with output_area\n     */\n    OutputArea.prototype.register_mime_type(EXEC_MIME_TYPE, append_mime, {\n      /* Is output safe? */\n      safe: true,\n      /* Index of renderer in `output_area.display_order` */\n      index: 0\n    });\n  }\n\n  // register the mime type if in Jupyter Notebook environment and previously unregistered\n  if (root.Jupyter !== undefined) {\n    const events = require('base/js/events');\n    const OutputArea = require('notebook/js/outputarea').OutputArea;\n\n    if (OutputArea.prototype.mime_types().indexOf(EXEC_MIME_TYPE) == -1) {\n      register_renderer(events, OutputArea);\n    }\n  }\n  if (typeof (root._bokeh_timeout) === \"undefined\" || force === true) {\n    root._bokeh_timeout = Date.now() + 5000;\n    root._bokeh_failed_load = false;\n  }\n\n  const NB_LOAD_WARNING = {'data': {'text/html':\n     \"<div style='background-color: #fdd'>\\n\"+\n     \"<p>\\n\"+\n     \"BokehJS does not appear to have successfully loaded. If loading BokehJS from CDN, this \\n\"+\n     \"may be due to a slow or bad network connection. Possible fixes:\\n\"+\n     \"</p>\\n\"+\n     \"<ul>\\n\"+\n     \"<li>re-rerun `output_notebook()` to attempt to load from CDN again, or</li>\\n\"+\n     \"<li>use INLINE resources instead, as so:</li>\\n\"+\n     \"</ul>\\n\"+\n     \"<code>\\n\"+\n     \"from bokeh.resources import INLINE\\n\"+\n     \"output_notebook(resources=INLINE)\\n\"+\n     \"</code>\\n\"+\n     \"</div>\"}};\n\n  function display_loaded() {\n    const el = document.getElementById(\"b9c3268b-b8eb-46f2-9c14-f3424a9b999b\");\n    if (el != null) {\n      el.textContent = \"BokehJS is loading...\";\n    }\n    if (root.Bokeh !== undefined) {\n      if (el != null) {\n        el.textContent = \"BokehJS \" + root.Bokeh.version + \" successfully loaded.\";\n      }\n    } else if (Date.now() < root._bokeh_timeout) {\n      setTimeout(display_loaded, 100)\n    }\n  }\n\n  function run_callbacks() {\n    try {\n      root._bokeh_onload_callbacks.forEach(function(callback) {\n        if (callback != null)\n          callback();\n      });\n    } finally {\n      delete root._bokeh_onload_callbacks\n    }\n    console.debug(\"Bokeh: all callbacks have finished\");\n  }\n\n  function load_libs(css_urls, js_urls, callback) {\n    if (css_urls == null) css_urls = [];\n    if (js_urls == null) js_urls = [];\n\n    root._bokeh_onload_callbacks.push(callback);\n    if (root._bokeh_is_loading > 0) {\n      console.debug(\"Bokeh: BokehJS is being loaded, scheduling callback at\", now());\n      return null;\n    }\n    if (js_urls == null || js_urls.length === 0) {\n      run_callbacks();\n      return null;\n    }\n    console.debug(\"Bokeh: BokehJS not loaded, scheduling load and callback at\", now());\n    root._bokeh_is_loading = css_urls.length + js_urls.length;\n\n    function on_load() {\n      root._bokeh_is_loading--;\n      if (root._bokeh_is_loading === 0) {\n        console.debug(\"Bokeh: all BokehJS libraries/stylesheets loaded\");\n        run_callbacks()\n      }\n    }\n\n    function on_error(url) {\n      console.error(\"failed to load \" + url);\n    }\n\n    for (let i = 0; i < css_urls.length; i++) {\n      const url = css_urls[i];\n      const element = document.createElement(\"link\");\n      element.onload = on_load;\n      element.onerror = on_error.bind(null, url);\n      element.rel = \"stylesheet\";\n      element.type = \"text/css\";\n      element.href = url;\n      console.debug(\"Bokeh: injecting link tag for BokehJS stylesheet: \", url);\n      document.body.appendChild(element);\n    }\n\n    for (let i = 0; i < js_urls.length; i++) {\n      const url = js_urls[i];\n      const element = document.createElement('script');\n      element.onload = on_load;\n      element.onerror = on_error.bind(null, url);\n      element.async = false;\n      element.src = url;\n      console.debug(\"Bokeh: injecting script tag for BokehJS library: \", url);\n      document.head.appendChild(element);\n    }\n  };\n\n  function inject_raw_css(css) {\n    const element = document.createElement(\"style\");\n    element.appendChild(document.createTextNode(css));\n    document.body.appendChild(element);\n  }\n\n  const js_urls = [\"https://cdn.bokeh.org/bokeh/release/bokeh-3.2.1.min.js\", \"https://cdn.bokeh.org/bokeh/release/bokeh-gl-3.2.1.min.js\", \"https://cdn.bokeh.org/bokeh/release/bokeh-widgets-3.2.1.min.js\", \"https://cdn.bokeh.org/bokeh/release/bokeh-tables-3.2.1.min.js\", \"https://cdn.bokeh.org/bokeh/release/bokeh-mathjax-3.2.1.min.js\"];\n  const css_urls = [];\n\n  const inline_js = [    function(Bokeh) {\n      Bokeh.set_log_level(\"info\");\n    },\nfunction(Bokeh) {\n    }\n  ];\n\n  function run_inline_js() {\n    if (root.Bokeh !== undefined || force === true) {\n          for (let i = 0; i < inline_js.length; i++) {\n      inline_js[i].call(root, root.Bokeh);\n    }\nif (force === true) {\n        display_loaded();\n      }} else if (Date.now() < root._bokeh_timeout) {\n      setTimeout(run_inline_js, 100);\n    } else if (!root._bokeh_failed_load) {\n      console.log(\"Bokeh: BokehJS failed to load within specified timeout.\");\n      root._bokeh_failed_load = true;\n    } else if (force !== true) {\n      const cell = $(document.getElementById(\"b9c3268b-b8eb-46f2-9c14-f3424a9b999b\")).parents('.cell').data().cell;\n      cell.output_area.append_execute_result(NB_LOAD_WARNING)\n    }\n  }\n\n  if (root._bokeh_is_loading === 0) {\n    console.debug(\"Bokeh: BokehJS loaded, going straight to plotting\");\n    run_inline_js();\n  } else {\n    load_libs(css_urls, js_urls, function() {\n      console.debug(\"Bokeh: BokehJS plotting callback run at\", now());\n      run_inline_js();\n    });\n  }\n}(window));",
      "application/vnd.bokehjs_load.v0+json": ""
     },
     "metadata": {},
     "output_type": "display_data"
    },
    {
     "data": {
      "text/html": [
       "\n",
       "  <div id=\"d60bb300-4f83-4464-8340-de7f8902bc81\" data-root-id=\"p1082\" style=\"display: contents;\"></div>\n"
      ]
     },
     "metadata": {},
     "output_type": "display_data"
    },
    {
     "data": {
      "application/javascript": "(function(root) {\n  function embed_document(root) {\n  const docs_json = {\"e0366411-a990-4051-966c-9321653f3e71\":{\"version\":\"3.2.1\",\"title\":\"Bokeh Application\",\"roots\":[{\"type\":\"object\",\"name\":\"Figure\",\"id\":\"p1082\",\"attributes\":{\"x_range\":{\"type\":\"object\",\"name\":\"DataRange1d\",\"id\":\"p1083\"},\"y_range\":{\"type\":\"object\",\"name\":\"DataRange1d\",\"id\":\"p1084\"},\"x_scale\":{\"type\":\"object\",\"name\":\"LinearScale\",\"id\":\"p1092\"},\"y_scale\":{\"type\":\"object\",\"name\":\"LinearScale\",\"id\":\"p1093\"},\"title\":{\"type\":\"object\",\"name\":\"Title\",\"id\":\"p1085\",\"attributes\":{\"text\":\"Simple Bokeh Scatter Plot\"}},\"renderers\":[{\"type\":\"object\",\"name\":\"GlyphRenderer\",\"id\":\"p1117\",\"attributes\":{\"data_source\":{\"type\":\"object\",\"name\":\"ColumnDataSource\",\"id\":\"p1111\",\"attributes\":{\"selected\":{\"type\":\"object\",\"name\":\"Selection\",\"id\":\"p1112\",\"attributes\":{\"indices\":[],\"line_indices\":[]}},\"selection_policy\":{\"type\":\"object\",\"name\":\"UnionRenderers\",\"id\":\"p1113\"},\"data\":{\"type\":\"map\",\"entries\":[[\"x\",{\"type\":\"ndarray\",\"array\":{\"type\":\"bytes\",\"data\":\"OgCzRuEl3z+wun7OQ3+mP/2e4ngM1uk/qC46YWzY0D9yqxl9XUPYP2JLfFhHA9g/kMmD93YC6T8Xp9fm7oThP1wga2JqXuY/ZtrvEV6c5j/5uHo1qBjvPwIlsm4jR+o/b3KInXB56z+Anawm/Sa/P2yELTMSy84/VMFTAKiTwT9IW1UyRenpPxWybFktnO0/3nPs+gYG3z83kP5OEabvPwA8Ue2CyX4/m0qa8kFX5T+sNczTnV/vP8jl4fmpDbI/aEN0IRJtzz8CLEhNxOnQPwjJ4X6ibcs/ANJhDZZn5j/cyW0VYBTQP5rC47Gjae4/2LKNsngmwT+ouALVjSzIP9CXYCP+drw//tvLblLM6D9ZO0K9DWDoP973yP8QjuA/mniZJQzw5T88qI358fXTP2hvyR307d4/CAT5q0zc5D/cgwtB2l7FP1AM1vSEIuY/L9up8MJ76j91Cub3TTbtP/G3R8AosO8/n1K4sMWz4D/o9wEKNbm6P2wehavKYdg/oFrQLvm/uz/S4k3NuGPcP0Bnq0DX9c8/KAbzdadIuT+AH/URWDbQP4DTCkuutL4/MJgVI4H3tj+13qEVkxvrP0BnP+U+SNE/KDZ1rbxn4z9cuGZuHc/SP+F7iB2xPeY/gsrNQeCj4T/OAVPKAkDiPzGEk82uDeM/rDyFWBVM7D/eLPLboAHiPxDyL+Tz6uA/RMncD2Nn2z/Uu+ACN8HbPyBuMOr3Rsw/plrc97dS2z+R8y/+XdTuP/6ydGgmdNo/FCXRjedp6z/g0TebsrnVP8nDPLbV3+g/SIFU8b2OwD+p52sshU7oP1JWC9xJcds/7Fh7bv1yzT9ujd8kOtLvP2EuIxCCrO4/ci2wJdWr0T+2BhgbQhPmP1hNeCn/UL0/yN1UMYlB0T9oPVxivtnYP0jk4ss8PrY/EMelqAOIxT+BtAZzZwrmPykxKJ8HgOc/yj8b0d0G1j+pSlVGawjpP6T2OVEoK94/rF2zr+7Ezz8wpHO0sESwPzHTEheSSuU/owV77GBO7D8mDiHg+nXiP0oK/ZkJCe8/mrKkgC4g3T8=\"},\"shape\":[100],\"dtype\":\"float64\",\"order\":\"little\"}],[\"y\",{\"type\":\"ndarray\",\"array\":{\"type\":\"bytes\",\"data\":\"lZyD5gig5T9Q/Wn8foTPP0xNrY4LHs8/uhfkw+8s2T9rF0sjiNTkPwmGlLskj+U/rlr38LO15j8VknBK8jfoP9ShI3CVxe8/elUWQ4Hq6j8wXKuPR8uwP1hX8xTaU8U//jnAsIYt1D+cO1L5/1/oPyKbgJUFo+o/MHVzk/zO2j9uGCDxwOXnPwzVoDzvNtA/dW181coZ7z/1drSPNHjsP8pzAf+SN+M/4mW9kWxt6D8DlYUaL13nP3xnXryhm+c/Ph52zIuF1z9kp2Wf8XTeP30ItRhv4+c/PQH+9Bca6D+d89O1FCnuP+ABMFqVrO4/cF50cFFFqT8Yq7Z4VYOyP8yP2x/JudI/ta/+llH/5z92u7ixxejcPzHvZrRd6+M/xAj8IzSu7T8Jh0Rb7uXlP8UE3LjfZeE/MNwzdRAvrD81CtLfkmjuP/5mvqYPX+Y/Wlbnw36n3z9yTdmlVOXUP2Co6Cw/ddw/0BNi7cPyzz+kEMLcEjXqP6ZZx1YZxeI/cM+mWhNP1D8OL32+uKvUP5A6cz0QirI/T7JWsSwQ7D8QzYv3BCDUP5iQF2T5tOA/3ENu6XdE6z/kQGXYM8rZP1jlj0YYDdE/shKyAyZN4z/wMzaogS3cP+LEiRosWe0/mJPkLzMtzz9TYZks5uTvP1SL0NifUeI/HgFOyOPF3j9bCWvYA1DvP3jFJiuUq8g/gtXfm3NF2j/AbAr2tDq9PzyK9pyUjOY/shuvIPrX7z8r6AJKalTqP6Dw4EHgy7o/Tq6tTeGE1j87fx3eb87tP0IgLrNH8tk/MuarQEXK2D+wpHv7qp/RP+iM5XANAL0/aU0o/PVk7j/mt1kpm/jSPzi9fQ0Zw88/JF/O5zKSzD/KibB7SavaP7wp4CMbTc4/DitKSip82j+ArUWc+9KvP1iKwsVp9es//r3H/caN2j/RrVc4JPLrP33xU+AjpOQ/4QmApG9o5T8NBFAS1h3jP0QnHbND+88/FEgP/akT5T9OqrlSkLbUPwCtE4RfvIg/mIUu3HlC0z8WIstmebfgP9bV/9OE49I/Oh3FR5xs1T8=\"},\"shape\":[100],\"dtype\":\"float64\",\"order\":\"little\"}]]}}},\"view\":{\"type\":\"object\",\"name\":\"CDSView\",\"id\":\"p1118\",\"attributes\":{\"filter\":{\"type\":\"object\",\"name\":\"AllIndices\",\"id\":\"p1119\"}}},\"glyph\":{\"type\":\"object\",\"name\":\"Circle\",\"id\":\"p1114\",\"attributes\":{\"x\":{\"type\":\"field\",\"field\":\"x\"},\"y\":{\"type\":\"field\",\"field\":\"y\"},\"size\":{\"type\":\"value\",\"value\":8},\"line_color\":{\"type\":\"value\",\"value\":\"blue\"},\"line_alpha\":{\"type\":\"value\",\"value\":0.5},\"fill_color\":{\"type\":\"value\",\"value\":\"blue\"},\"fill_alpha\":{\"type\":\"value\",\"value\":0.5},\"hatch_color\":{\"type\":\"value\",\"value\":\"blue\"},\"hatch_alpha\":{\"type\":\"value\",\"value\":0.5}}},\"nonselection_glyph\":{\"type\":\"object\",\"name\":\"Circle\",\"id\":\"p1115\",\"attributes\":{\"x\":{\"type\":\"field\",\"field\":\"x\"},\"y\":{\"type\":\"field\",\"field\":\"y\"},\"size\":{\"type\":\"value\",\"value\":8},\"line_color\":{\"type\":\"value\",\"value\":\"blue\"},\"line_alpha\":{\"type\":\"value\",\"value\":0.1},\"fill_color\":{\"type\":\"value\",\"value\":\"blue\"},\"fill_alpha\":{\"type\":\"value\",\"value\":0.1},\"hatch_color\":{\"type\":\"value\",\"value\":\"blue\"},\"hatch_alpha\":{\"type\":\"value\",\"value\":0.1}}},\"muted_glyph\":{\"type\":\"object\",\"name\":\"Circle\",\"id\":\"p1116\",\"attributes\":{\"x\":{\"type\":\"field\",\"field\":\"x\"},\"y\":{\"type\":\"field\",\"field\":\"y\"},\"size\":{\"type\":\"value\",\"value\":8},\"line_color\":{\"type\":\"value\",\"value\":\"blue\"},\"line_alpha\":{\"type\":\"value\",\"value\":0.2},\"fill_color\":{\"type\":\"value\",\"value\":\"blue\"},\"fill_alpha\":{\"type\":\"value\",\"value\":0.2},\"hatch_color\":{\"type\":\"value\",\"value\":\"blue\"},\"hatch_alpha\":{\"type\":\"value\",\"value\":0.2}}}}}],\"toolbar\":{\"type\":\"object\",\"name\":\"Toolbar\",\"id\":\"p1091\",\"attributes\":{\"tools\":[{\"type\":\"object\",\"name\":\"PanTool\",\"id\":\"p1104\"},{\"type\":\"object\",\"name\":\"WheelZoomTool\",\"id\":\"p1105\"},{\"type\":\"object\",\"name\":\"BoxZoomTool\",\"id\":\"p1106\",\"attributes\":{\"overlay\":{\"type\":\"object\",\"name\":\"BoxAnnotation\",\"id\":\"p1107\",\"attributes\":{\"syncable\":false,\"level\":\"overlay\",\"visible\":false,\"left_units\":\"canvas\",\"right_units\":\"canvas\",\"bottom_units\":\"canvas\",\"top_units\":\"canvas\",\"line_color\":\"black\",\"line_alpha\":1.0,\"line_width\":2,\"line_dash\":[4,4],\"fill_color\":\"lightgrey\",\"fill_alpha\":0.5}}}},{\"type\":\"object\",\"name\":\"SaveTool\",\"id\":\"p1108\"},{\"type\":\"object\",\"name\":\"ResetTool\",\"id\":\"p1109\"},{\"type\":\"object\",\"name\":\"HelpTool\",\"id\":\"p1110\"}]}},\"left\":[{\"type\":\"object\",\"name\":\"LinearAxis\",\"id\":\"p1099\",\"attributes\":{\"ticker\":{\"type\":\"object\",\"name\":\"BasicTicker\",\"id\":\"p1100\",\"attributes\":{\"mantissas\":[1,2,5]}},\"formatter\":{\"type\":\"object\",\"name\":\"BasicTickFormatter\",\"id\":\"p1101\"},\"major_label_policy\":{\"type\":\"object\",\"name\":\"AllLabels\",\"id\":\"p1102\"}}}],\"below\":[{\"type\":\"object\",\"name\":\"LinearAxis\",\"id\":\"p1094\",\"attributes\":{\"ticker\":{\"type\":\"object\",\"name\":\"BasicTicker\",\"id\":\"p1095\",\"attributes\":{\"mantissas\":[1,2,5]}},\"formatter\":{\"type\":\"object\",\"name\":\"BasicTickFormatter\",\"id\":\"p1096\"},\"major_label_policy\":{\"type\":\"object\",\"name\":\"AllLabels\",\"id\":\"p1097\"}}}],\"center\":[{\"type\":\"object\",\"name\":\"Grid\",\"id\":\"p1098\",\"attributes\":{\"axis\":{\"id\":\"p1094\"}}},{\"type\":\"object\",\"name\":\"Grid\",\"id\":\"p1103\",\"attributes\":{\"dimension\":1,\"axis\":{\"id\":\"p1099\"}}}]}}]}};\n  const render_items = [{\"docid\":\"e0366411-a990-4051-966c-9321653f3e71\",\"roots\":{\"p1082\":\"d60bb300-4f83-4464-8340-de7f8902bc81\"},\"root_ids\":[\"p1082\"]}];\n  root.Bokeh.embed.embed_items_notebook(docs_json, render_items);\n  }\n  if (root.Bokeh !== undefined) {\n    embed_document(root);\n  } else {\n    let attempts = 0;\n    const timer = setInterval(function(root) {\n      if (root.Bokeh !== undefined) {\n        clearInterval(timer);\n        embed_document(root);\n      } else {\n        attempts++;\n        if (attempts > 100) {\n          clearInterval(timer);\n          console.log(\"Bokeh: ERROR: Unable to run BokehJS code because BokehJS library is missing\");\n        }\n      }\n    }, 10, root)\n  }\n})(window);",
      "application/vnd.bokehjs_exec.v0+json": ""
     },
     "metadata": {
      "application/vnd.bokehjs_exec.v0+json": {
       "id": "p1082"
      }
     },
     "output_type": "display_data"
    }
   ],
   "source": [
    "from bokeh.plotting import figure, show, output_notebook\n",
    "import bokeh.io\n",
    "import numpy as np\n",
    "\n",
    "bokeh.io.output_notebook()\n",
    "\n",
    "# Create data\n",
    "x = np.random.random(100)\n",
    "y = np.random.random(100)\n",
    "\n",
    "# Create a figure\n",
    "p = figure(title=\"Simple Bokeh Scatter Plot\")\n",
    "\n",
    "# Add a scatter glyph\n",
    "p.circle(x, y, size=8, color=\"blue\", alpha=0.5)\n",
    "\n",
    "# Show the plot\n",
    "show(p)\n"
   ]
  },
  {
   "cell_type": "markdown",
   "metadata": {},
   "source": [
    "**Q2.** What are glyphs in Bokeh, and how can you add them to a Bokeh plot? Explain with an example."
   ]
  },
  {
   "cell_type": "markdown",
   "metadata": {},
   "source": [
    "**Glyphs in Bokeh:**\n",
    "\n",
    "Glyphs are visual elements used to represent data on a plot in Bokeh.\n",
    "They include geometric shapes like circles, lines, rectangles, etc.\n",
    "Glyphs allow you to visually display data points, lines, areas, and more.\n",
    "\n",
    "**Adding Glyphs:**\n",
    "\n",
    "To add glyphs to a Bokeh plot, you use glyph methods like .circle(), .line(), .rect(), etc.\n",
    "These methods take data and properties as arguments to define how the glyph should appear."
   ]
  },
  {
   "cell_type": "code",
   "execution_count": 5,
   "metadata": {},
   "outputs": [
    {
     "data": {
      "text/html": [
       "\n",
       "  <div id=\"f927f170-4a98-4f12-9a1c-6efb55e12d86\" data-root-id=\"p1122\" style=\"display: contents;\"></div>\n"
      ]
     },
     "metadata": {},
     "output_type": "display_data"
    },
    {
     "data": {
      "application/javascript": "(function(root) {\n  function embed_document(root) {\n  const docs_json = {\"64d3a332-45d6-4b6d-842c-51727114de01\":{\"version\":\"3.2.1\",\"title\":\"Bokeh Application\",\"roots\":[{\"type\":\"object\",\"name\":\"Figure\",\"id\":\"p1122\",\"attributes\":{\"x_range\":{\"type\":\"object\",\"name\":\"DataRange1d\",\"id\":\"p1123\"},\"y_range\":{\"type\":\"object\",\"name\":\"DataRange1d\",\"id\":\"p1124\"},\"x_scale\":{\"type\":\"object\",\"name\":\"LinearScale\",\"id\":\"p1132\"},\"y_scale\":{\"type\":\"object\",\"name\":\"LinearScale\",\"id\":\"p1133\"},\"title\":{\"type\":\"object\",\"name\":\"Title\",\"id\":\"p1125\",\"attributes\":{\"text\":\"Bokeh Plot with Glyphs\"}},\"renderers\":[{\"type\":\"object\",\"name\":\"GlyphRenderer\",\"id\":\"p1157\",\"attributes\":{\"data_source\":{\"type\":\"object\",\"name\":\"ColumnDataSource\",\"id\":\"p1151\",\"attributes\":{\"selected\":{\"type\":\"object\",\"name\":\"Selection\",\"id\":\"p1152\",\"attributes\":{\"indices\":[],\"line_indices\":[]}},\"selection_policy\":{\"type\":\"object\",\"name\":\"UnionRenderers\",\"id\":\"p1153\"},\"data\":{\"type\":\"map\",\"entries\":[[\"x\",{\"type\":\"ndarray\",\"array\":{\"type\":\"bytes\",\"data\":\"uNuHkyhevD/ofIRnQvbNP6qa+QTRUts/xBpWBE46yD8YIyeZeajOP6jSNj7xm+c/3fBMx24b7z9l2ed3hW/vPzBTpqxBIsA/4YYiWs6i4z84pJsZaDXYP4hgHRyDdsk/RX007qJN4T++bEaOV2/pP9Jl0+ObReg/U/Fi9mgw5T9IvJznEX7UP9XV0y9k3OA/571IRqlE5j+XIDdfnkrnP2xCFCw/feg/oCWuWR/ayD8ZNJrwklHhPziMu2DzGM8/Sy7vSEsf4j9fZekBkgjrPzgAJd+Rp9E//qlcoO8E6T+8BurvRArdP0Dco+a2r8k/gl/MnWMn7z/gUGkmR/nWP1QjYPoLo9Q/VFBbH1azyz+8HAUjDizsPzALIWSEcOA/+HMgfVBI5z8s8Hd1opfpP9qMpnxyk+Y/BvvId2k71j/g6lzzMAy+P3Q4sIL4xcI/RDBEqwS+3j8c4zsFlkDRP5yTUlY4QMU/ip+VwCF36T97aH426DLoP2CggFlTvLY/oJUG2K/V0D8Ko37jvT3gP0zcduliD8E/JK8bbCBb4z+AYCSdqqKsPwz8zjfCv8Y/gG1+J52L6D9RZ1mLsrzgP+Y7JxUtQ+g/I15kqTBo7j+g4LVtqsLLP8yAu5hO2+0/rO0v7mrg0T9AhuIQGCSwPxSFIgO5aug/kTwFbyFh6z94B5z36fzEP6uSgJ5OCOQ/eBxUEITjvj/CtscCYF7jP+gdxjeC+L4/0PaACudssT/YtNY+mgm5P5iso0OyvOw/vHH213pR4D+rm0Y550nrP6wljTLSzMQ/ULXYsa7cvz8cWJ1MhwLkPz1wvyhJg+s/C+PkOBBh5j8RZV+vKifnPxdmtf5RRuE/xMEEyeBw7D9s40dhjCjGP7bBBrZFp+I/mOwRWrE75T978om01PHtPxbX0F11TtU/QPphZscKrT9iBVUAzc/qP+KLI/4vyeI/ZHmNX/g/yz8IVa7XzNnvP+Pj3Km1yu0/oL8Y2qBHvj88mzCye8fpP8J65Q1Bw+c/UtSNQucr3T/QTY8kgf7AP0zlfY7Cq8o/hrz9A/R13D8=\"},\"shape\":[100],\"dtype\":\"float64\",\"order\":\"little\"}],[\"y\",{\"type\":\"ndarray\",\"array\":{\"type\":\"bytes\",\"data\":\"0BQVzYzzvT+Cg6IvMR7eP4Q3jKMQ18s/MG5BcNQktz+eIsVOwcXjP6x2GiJ1seA/wVwvOMOT4D/hGF1W1NjtP8yT5gKU88c/oBv1GQ556D9xjfQKYvvhP/Pr2JECuOU/hCMg7Ls4xT8wsTAn9bfeP6yvDqm/ZMI/8b7W70J+7j9IdeOmEI/LP8xqTV8UgOo/v3C4unxj4z9updoiZffcPyAyR8obTaE/6OI4tVO83j+XyfPGVejtP3h1UvOUc90/EeH7UIoz6j/k1tPrnaDNP4g8TVPQXew/HTAOMAah6j+AtQZJ1XTWP7puJfXp5eg/G2xAtY5G5T8EwXV704jYP8wSBweT/uw/sLXPv3E/0z9/Mn4MalXqP1oATIBexNw/KDgohyC82T9ZIpht/TDlP3I5YiOv7tg/dCIAmo3F0T/a7Qaq0iXVP+hgULH+euM/gS4gwiTa6D+v85UE4j/iP4g+CuP03O8/sTkcrXzv6T+4PpKTh27fP7oy7OFr894/OTBt6+wU4T/6sgiuNEnVP7Ae14+kfLY/t9JchX+26T9YZzIgUIGyP4bE/e+S8t0/2bEAHIiG5D8s1qlRXnvQPyjK5vMfjLc/XM2ZsAGB5j8i65IM29bUP0U/rp7P1O8/g26dEKjr7D8gXL205pDoP1LoI4E2h+k/3fLu4P5D4z/CYIovtUfjP6KUD/Tnyd8/+38lOiyq5D8oMXzqKy3nP7WXX7DQ3Ok/jkhSJdXi5z+gtyxDhIi6P+M6VnJlSeI/bMnXLdVZ4T9Az8M7nXbIP7AXGv/qqq8/at18EoWd4z/Y5vycKZi5P0FWL6YofeE/xEX+Jboo4T+L9J7wc8DrP9Ty3Fcg+NY/sObiDcU41D86fNCWVdDlP3i9+AyioMk/WD03F+Dw6T8grQVMIVGjP+T52dYYFNc/Yjh54fcm7j8M109ElF7TP8M0FhH52eg/d21f2DZU5z8IzmbNnljRP1TVWZNn1+Q//Al8FPRLyT9SYbkosJXuP/iXX0GogbY/HDfVy1Dc0T/MHWXkjpPGPxf8z4i9a+o/AJC6epb8xD8=\"},\"shape\":[100],\"dtype\":\"float64\",\"order\":\"little\"}]]}}},\"view\":{\"type\":\"object\",\"name\":\"CDSView\",\"id\":\"p1158\",\"attributes\":{\"filter\":{\"type\":\"object\",\"name\":\"AllIndices\",\"id\":\"p1159\"}}},\"glyph\":{\"type\":\"object\",\"name\":\"Circle\",\"id\":\"p1154\",\"attributes\":{\"x\":{\"type\":\"field\",\"field\":\"x\"},\"y\":{\"type\":\"field\",\"field\":\"y\"},\"size\":{\"type\":\"value\",\"value\":8},\"line_color\":{\"type\":\"value\",\"value\":\"blue\"},\"line_alpha\":{\"type\":\"value\",\"value\":0.5},\"fill_color\":{\"type\":\"value\",\"value\":\"blue\"},\"fill_alpha\":{\"type\":\"value\",\"value\":0.5},\"hatch_color\":{\"type\":\"value\",\"value\":\"blue\"},\"hatch_alpha\":{\"type\":\"value\",\"value\":0.5}}},\"nonselection_glyph\":{\"type\":\"object\",\"name\":\"Circle\",\"id\":\"p1155\",\"attributes\":{\"x\":{\"type\":\"field\",\"field\":\"x\"},\"y\":{\"type\":\"field\",\"field\":\"y\"},\"size\":{\"type\":\"value\",\"value\":8},\"line_color\":{\"type\":\"value\",\"value\":\"blue\"},\"line_alpha\":{\"type\":\"value\",\"value\":0.1},\"fill_color\":{\"type\":\"value\",\"value\":\"blue\"},\"fill_alpha\":{\"type\":\"value\",\"value\":0.1},\"hatch_color\":{\"type\":\"value\",\"value\":\"blue\"},\"hatch_alpha\":{\"type\":\"value\",\"value\":0.1}}},\"muted_glyph\":{\"type\":\"object\",\"name\":\"Circle\",\"id\":\"p1156\",\"attributes\":{\"x\":{\"type\":\"field\",\"field\":\"x\"},\"y\":{\"type\":\"field\",\"field\":\"y\"},\"size\":{\"type\":\"value\",\"value\":8},\"line_color\":{\"type\":\"value\",\"value\":\"blue\"},\"line_alpha\":{\"type\":\"value\",\"value\":0.2},\"fill_color\":{\"type\":\"value\",\"value\":\"blue\"},\"fill_alpha\":{\"type\":\"value\",\"value\":0.2},\"hatch_color\":{\"type\":\"value\",\"value\":\"blue\"},\"hatch_alpha\":{\"type\":\"value\",\"value\":0.2}}}}},{\"type\":\"object\",\"name\":\"GlyphRenderer\",\"id\":\"p1168\",\"attributes\":{\"data_source\":{\"type\":\"object\",\"name\":\"ColumnDataSource\",\"id\":\"p1162\",\"attributes\":{\"selected\":{\"type\":\"object\",\"name\":\"Selection\",\"id\":\"p1163\",\"attributes\":{\"indices\":[],\"line_indices\":[]}},\"selection_policy\":{\"type\":\"object\",\"name\":\"UnionRenderers\",\"id\":\"p1164\"},\"data\":{\"type\":\"map\",\"entries\":[[\"x\",{\"type\":\"ndarray\",\"array\":{\"type\":\"bytes\",\"data\":\"uNuHkyhevD/ofIRnQvbNP6qa+QTRUts/xBpWBE46yD8YIyeZeajOP6jSNj7xm+c/3fBMx24b7z9l2ed3hW/vPzBTpqxBIsA/4YYiWs6i4z84pJsZaDXYP4hgHRyDdsk/RX007qJN4T++bEaOV2/pP9Jl0+ObReg/U/Fi9mgw5T9IvJznEX7UP9XV0y9k3OA/571IRqlE5j+XIDdfnkrnP2xCFCw/feg/oCWuWR/ayD8ZNJrwklHhPziMu2DzGM8/Sy7vSEsf4j9fZekBkgjrPzgAJd+Rp9E//qlcoO8E6T+8BurvRArdP0Dco+a2r8k/gl/MnWMn7z/gUGkmR/nWP1QjYPoLo9Q/VFBbH1azyz+8HAUjDizsPzALIWSEcOA/+HMgfVBI5z8s8Hd1opfpP9qMpnxyk+Y/BvvId2k71j/g6lzzMAy+P3Q4sIL4xcI/RDBEqwS+3j8c4zsFlkDRP5yTUlY4QMU/ip+VwCF36T97aH426DLoP2CggFlTvLY/oJUG2K/V0D8Ko37jvT3gP0zcduliD8E/JK8bbCBb4z+AYCSdqqKsPwz8zjfCv8Y/gG1+J52L6D9RZ1mLsrzgP+Y7JxUtQ+g/I15kqTBo7j+g4LVtqsLLP8yAu5hO2+0/rO0v7mrg0T9AhuIQGCSwPxSFIgO5aug/kTwFbyFh6z94B5z36fzEP6uSgJ5OCOQ/eBxUEITjvj/CtscCYF7jP+gdxjeC+L4/0PaACudssT/YtNY+mgm5P5iso0OyvOw/vHH213pR4D+rm0Y550nrP6wljTLSzMQ/ULXYsa7cvz8cWJ1MhwLkPz1wvyhJg+s/C+PkOBBh5j8RZV+vKifnPxdmtf5RRuE/xMEEyeBw7D9s40dhjCjGP7bBBrZFp+I/mOwRWrE75T978om01PHtPxbX0F11TtU/QPphZscKrT9iBVUAzc/qP+KLI/4vyeI/ZHmNX/g/yz8IVa7XzNnvP+Pj3Km1yu0/oL8Y2qBHvj88mzCye8fpP8J65Q1Bw+c/UtSNQucr3T/QTY8kgf7AP0zlfY7Cq8o/hrz9A/R13D8=\"},\"shape\":[100],\"dtype\":\"float64\",\"order\":\"little\"}],[\"y\",{\"type\":\"ndarray\",\"array\":{\"type\":\"bytes\",\"data\":\"0BQVzYzzvT+Cg6IvMR7eP4Q3jKMQ18s/MG5BcNQktz+eIsVOwcXjP6x2GiJ1seA/wVwvOMOT4D/hGF1W1NjtP8yT5gKU88c/oBv1GQ556D9xjfQKYvvhP/Pr2JECuOU/hCMg7Ls4xT8wsTAn9bfeP6yvDqm/ZMI/8b7W70J+7j9IdeOmEI/LP8xqTV8UgOo/v3C4unxj4z9updoiZffcPyAyR8obTaE/6OI4tVO83j+XyfPGVejtP3h1UvOUc90/EeH7UIoz6j/k1tPrnaDNP4g8TVPQXew/HTAOMAah6j+AtQZJ1XTWP7puJfXp5eg/G2xAtY5G5T8EwXV704jYP8wSBweT/uw/sLXPv3E/0z9/Mn4MalXqP1oATIBexNw/KDgohyC82T9ZIpht/TDlP3I5YiOv7tg/dCIAmo3F0T/a7Qaq0iXVP+hgULH+euM/gS4gwiTa6D+v85UE4j/iP4g+CuP03O8/sTkcrXzv6T+4PpKTh27fP7oy7OFr894/OTBt6+wU4T/6sgiuNEnVP7Ae14+kfLY/t9JchX+26T9YZzIgUIGyP4bE/e+S8t0/2bEAHIiG5D8s1qlRXnvQPyjK5vMfjLc/XM2ZsAGB5j8i65IM29bUP0U/rp7P1O8/g26dEKjr7D8gXL205pDoP1LoI4E2h+k/3fLu4P5D4z/CYIovtUfjP6KUD/Tnyd8/+38lOiyq5D8oMXzqKy3nP7WXX7DQ3Ok/jkhSJdXi5z+gtyxDhIi6P+M6VnJlSeI/bMnXLdVZ4T9Az8M7nXbIP7AXGv/qqq8/at18EoWd4z/Y5vycKZi5P0FWL6YofeE/xEX+Jboo4T+L9J7wc8DrP9Ty3Fcg+NY/sObiDcU41D86fNCWVdDlP3i9+AyioMk/WD03F+Dw6T8grQVMIVGjP+T52dYYFNc/Yjh54fcm7j8M109ElF7TP8M0FhH52eg/d21f2DZU5z8IzmbNnljRP1TVWZNn1+Q//Al8FPRLyT9SYbkosJXuP/iXX0GogbY/HDfVy1Dc0T/MHWXkjpPGPxf8z4i9a+o/AJC6epb8xD8=\"},\"shape\":[100],\"dtype\":\"float64\",\"order\":\"little\"}]]}}},\"view\":{\"type\":\"object\",\"name\":\"CDSView\",\"id\":\"p1169\",\"attributes\":{\"filter\":{\"type\":\"object\",\"name\":\"AllIndices\",\"id\":\"p1170\"}}},\"glyph\":{\"type\":\"object\",\"name\":\"Line\",\"id\":\"p1165\",\"attributes\":{\"x\":{\"type\":\"field\",\"field\":\"x\"},\"y\":{\"type\":\"field\",\"field\":\"y\"},\"line_color\":\"red\",\"line_alpha\":0.8,\"line_width\":2}},\"nonselection_glyph\":{\"type\":\"object\",\"name\":\"Line\",\"id\":\"p1166\",\"attributes\":{\"x\":{\"type\":\"field\",\"field\":\"x\"},\"y\":{\"type\":\"field\",\"field\":\"y\"},\"line_color\":\"red\",\"line_alpha\":0.1,\"line_width\":2}},\"muted_glyph\":{\"type\":\"object\",\"name\":\"Line\",\"id\":\"p1167\",\"attributes\":{\"x\":{\"type\":\"field\",\"field\":\"x\"},\"y\":{\"type\":\"field\",\"field\":\"y\"},\"line_color\":\"red\",\"line_alpha\":0.2,\"line_width\":2}}}},{\"type\":\"object\",\"name\":\"GlyphRenderer\",\"id\":\"p1178\",\"attributes\":{\"data_source\":{\"type\":\"object\",\"name\":\"ColumnDataSource\",\"id\":\"p1172\",\"attributes\":{\"selected\":{\"type\":\"object\",\"name\":\"Selection\",\"id\":\"p1173\",\"attributes\":{\"indices\":[],\"line_indices\":[]}},\"selection_policy\":{\"type\":\"object\",\"name\":\"UnionRenderers\",\"id\":\"p1174\"},\"data\":{\"type\":\"map\",\"entries\":[[\"x\",{\"type\":\"ndarray\",\"array\":{\"type\":\"bytes\",\"data\":\"uNuHkyhevD/ofIRnQvbNP6qa+QTRUts/xBpWBE46yD8YIyeZeajOP6jSNj7xm+c/3fBMx24b7z9l2ed3hW/vPzBTpqxBIsA/4YYiWs6i4z84pJsZaDXYP4hgHRyDdsk/RX007qJN4T++bEaOV2/pP9Jl0+ObReg/U/Fi9mgw5T9IvJznEX7UP9XV0y9k3OA/571IRqlE5j+XIDdfnkrnP2xCFCw/feg/oCWuWR/ayD8ZNJrwklHhPziMu2DzGM8/Sy7vSEsf4j9fZekBkgjrPzgAJd+Rp9E//qlcoO8E6T+8BurvRArdP0Dco+a2r8k/gl/MnWMn7z/gUGkmR/nWP1QjYPoLo9Q/VFBbH1azyz+8HAUjDizsPzALIWSEcOA/+HMgfVBI5z8s8Hd1opfpP9qMpnxyk+Y/BvvId2k71j/g6lzzMAy+P3Q4sIL4xcI/RDBEqwS+3j8c4zsFlkDRP5yTUlY4QMU/ip+VwCF36T97aH426DLoP2CggFlTvLY/oJUG2K/V0D8Ko37jvT3gP0zcduliD8E/JK8bbCBb4z+AYCSdqqKsPwz8zjfCv8Y/gG1+J52L6D9RZ1mLsrzgP+Y7JxUtQ+g/I15kqTBo7j+g4LVtqsLLP8yAu5hO2+0/rO0v7mrg0T9AhuIQGCSwPxSFIgO5aug/kTwFbyFh6z94B5z36fzEP6uSgJ5OCOQ/eBxUEITjvj/CtscCYF7jP+gdxjeC+L4/0PaACudssT/YtNY+mgm5P5iso0OyvOw/vHH213pR4D+rm0Y550nrP6wljTLSzMQ/ULXYsa7cvz8cWJ1MhwLkPz1wvyhJg+s/C+PkOBBh5j8RZV+vKifnPxdmtf5RRuE/xMEEyeBw7D9s40dhjCjGP7bBBrZFp+I/mOwRWrE75T978om01PHtPxbX0F11TtU/QPphZscKrT9iBVUAzc/qP+KLI/4vyeI/ZHmNX/g/yz8IVa7XzNnvP+Pj3Km1yu0/oL8Y2qBHvj88mzCye8fpP8J65Q1Bw+c/UtSNQucr3T/QTY8kgf7AP0zlfY7Cq8o/hrz9A/R13D8=\"},\"shape\":[100],\"dtype\":\"float64\",\"order\":\"little\"}],[\"y\",{\"type\":\"ndarray\",\"array\":{\"type\":\"bytes\",\"data\":\"0BQVzYzzvT+Cg6IvMR7eP4Q3jKMQ18s/MG5BcNQktz+eIsVOwcXjP6x2GiJ1seA/wVwvOMOT4D/hGF1W1NjtP8yT5gKU88c/oBv1GQ556D9xjfQKYvvhP/Pr2JECuOU/hCMg7Ls4xT8wsTAn9bfeP6yvDqm/ZMI/8b7W70J+7j9IdeOmEI/LP8xqTV8UgOo/v3C4unxj4z9updoiZffcPyAyR8obTaE/6OI4tVO83j+XyfPGVejtP3h1UvOUc90/EeH7UIoz6j/k1tPrnaDNP4g8TVPQXew/HTAOMAah6j+AtQZJ1XTWP7puJfXp5eg/G2xAtY5G5T8EwXV704jYP8wSBweT/uw/sLXPv3E/0z9/Mn4MalXqP1oATIBexNw/KDgohyC82T9ZIpht/TDlP3I5YiOv7tg/dCIAmo3F0T/a7Qaq0iXVP+hgULH+euM/gS4gwiTa6D+v85UE4j/iP4g+CuP03O8/sTkcrXzv6T+4PpKTh27fP7oy7OFr894/OTBt6+wU4T/6sgiuNEnVP7Ae14+kfLY/t9JchX+26T9YZzIgUIGyP4bE/e+S8t0/2bEAHIiG5D8s1qlRXnvQPyjK5vMfjLc/XM2ZsAGB5j8i65IM29bUP0U/rp7P1O8/g26dEKjr7D8gXL205pDoP1LoI4E2h+k/3fLu4P5D4z/CYIovtUfjP6KUD/Tnyd8/+38lOiyq5D8oMXzqKy3nP7WXX7DQ3Ok/jkhSJdXi5z+gtyxDhIi6P+M6VnJlSeI/bMnXLdVZ4T9Az8M7nXbIP7AXGv/qqq8/at18EoWd4z/Y5vycKZi5P0FWL6YofeE/xEX+Jboo4T+L9J7wc8DrP9Ty3Fcg+NY/sObiDcU41D86fNCWVdDlP3i9+AyioMk/WD03F+Dw6T8grQVMIVGjP+T52dYYFNc/Yjh54fcm7j8M109ElF7TP8M0FhH52eg/d21f2DZU5z8IzmbNnljRP1TVWZNn1+Q//Al8FPRLyT9SYbkosJXuP/iXX0GogbY/HDfVy1Dc0T/MHWXkjpPGPxf8z4i9a+o/AJC6epb8xD8=\"},\"shape\":[100],\"dtype\":\"float64\",\"order\":\"little\"}]]}}},\"view\":{\"type\":\"object\",\"name\":\"CDSView\",\"id\":\"p1179\",\"attributes\":{\"filter\":{\"type\":\"object\",\"name\":\"AllIndices\",\"id\":\"p1180\"}}},\"glyph\":{\"type\":\"object\",\"name\":\"Rect\",\"id\":\"p1175\",\"attributes\":{\"x\":{\"type\":\"field\",\"field\":\"x\"},\"y\":{\"type\":\"field\",\"field\":\"y\"},\"width\":{\"type\":\"value\",\"value\":0.1},\"height\":{\"type\":\"value\",\"value\":0.1},\"angle\":{\"type\":\"value\",\"value\":0.7853981633974483},\"line_color\":{\"type\":\"value\",\"value\":\"green\"},\"line_alpha\":{\"type\":\"value\",\"value\":0.6},\"fill_color\":{\"type\":\"value\",\"value\":\"green\"},\"fill_alpha\":{\"type\":\"value\",\"value\":0.6},\"hatch_color\":{\"type\":\"value\",\"value\":\"green\"},\"hatch_alpha\":{\"type\":\"value\",\"value\":0.6}}},\"nonselection_glyph\":{\"type\":\"object\",\"name\":\"Rect\",\"id\":\"p1176\",\"attributes\":{\"x\":{\"type\":\"field\",\"field\":\"x\"},\"y\":{\"type\":\"field\",\"field\":\"y\"},\"width\":{\"type\":\"value\",\"value\":0.1},\"height\":{\"type\":\"value\",\"value\":0.1},\"angle\":{\"type\":\"value\",\"value\":0.7853981633974483},\"line_color\":{\"type\":\"value\",\"value\":\"green\"},\"line_alpha\":{\"type\":\"value\",\"value\":0.1},\"fill_color\":{\"type\":\"value\",\"value\":\"green\"},\"fill_alpha\":{\"type\":\"value\",\"value\":0.1},\"hatch_color\":{\"type\":\"value\",\"value\":\"green\"},\"hatch_alpha\":{\"type\":\"value\",\"value\":0.1}}},\"muted_glyph\":{\"type\":\"object\",\"name\":\"Rect\",\"id\":\"p1177\",\"attributes\":{\"x\":{\"type\":\"field\",\"field\":\"x\"},\"y\":{\"type\":\"field\",\"field\":\"y\"},\"width\":{\"type\":\"value\",\"value\":0.1},\"height\":{\"type\":\"value\",\"value\":0.1},\"angle\":{\"type\":\"value\",\"value\":0.7853981633974483},\"line_color\":{\"type\":\"value\",\"value\":\"green\"},\"line_alpha\":{\"type\":\"value\",\"value\":0.2},\"fill_color\":{\"type\":\"value\",\"value\":\"green\"},\"fill_alpha\":{\"type\":\"value\",\"value\":0.2},\"hatch_color\":{\"type\":\"value\",\"value\":\"green\"},\"hatch_alpha\":{\"type\":\"value\",\"value\":0.2}}}}}],\"toolbar\":{\"type\":\"object\",\"name\":\"Toolbar\",\"id\":\"p1131\",\"attributes\":{\"tools\":[{\"type\":\"object\",\"name\":\"PanTool\",\"id\":\"p1144\"},{\"type\":\"object\",\"name\":\"WheelZoomTool\",\"id\":\"p1145\"},{\"type\":\"object\",\"name\":\"BoxZoomTool\",\"id\":\"p1146\",\"attributes\":{\"overlay\":{\"type\":\"object\",\"name\":\"BoxAnnotation\",\"id\":\"p1147\",\"attributes\":{\"syncable\":false,\"level\":\"overlay\",\"visible\":false,\"left_units\":\"canvas\",\"right_units\":\"canvas\",\"bottom_units\":\"canvas\",\"top_units\":\"canvas\",\"line_color\":\"black\",\"line_alpha\":1.0,\"line_width\":2,\"line_dash\":[4,4],\"fill_color\":\"lightgrey\",\"fill_alpha\":0.5}}}},{\"type\":\"object\",\"name\":\"SaveTool\",\"id\":\"p1148\"},{\"type\":\"object\",\"name\":\"ResetTool\",\"id\":\"p1149\"},{\"type\":\"object\",\"name\":\"HelpTool\",\"id\":\"p1150\"}]}},\"left\":[{\"type\":\"object\",\"name\":\"LinearAxis\",\"id\":\"p1139\",\"attributes\":{\"ticker\":{\"type\":\"object\",\"name\":\"BasicTicker\",\"id\":\"p1140\",\"attributes\":{\"mantissas\":[1,2,5]}},\"formatter\":{\"type\":\"object\",\"name\":\"BasicTickFormatter\",\"id\":\"p1141\"},\"axis_label\":\"Y-axis\",\"major_label_policy\":{\"type\":\"object\",\"name\":\"AllLabels\",\"id\":\"p1142\"}}}],\"below\":[{\"type\":\"object\",\"name\":\"LinearAxis\",\"id\":\"p1134\",\"attributes\":{\"ticker\":{\"type\":\"object\",\"name\":\"BasicTicker\",\"id\":\"p1135\",\"attributes\":{\"mantissas\":[1,2,5]}},\"formatter\":{\"type\":\"object\",\"name\":\"BasicTickFormatter\",\"id\":\"p1136\"},\"axis_label\":\"X-axis\",\"major_label_policy\":{\"type\":\"object\",\"name\":\"AllLabels\",\"id\":\"p1137\"}}}],\"center\":[{\"type\":\"object\",\"name\":\"Grid\",\"id\":\"p1138\",\"attributes\":{\"axis\":{\"id\":\"p1134\"}}},{\"type\":\"object\",\"name\":\"Grid\",\"id\":\"p1143\",\"attributes\":{\"dimension\":1,\"axis\":{\"id\":\"p1139\"}}},{\"type\":\"object\",\"name\":\"Legend\",\"id\":\"p1160\",\"attributes\":{\"title\":\"Glyphs\",\"items\":[{\"type\":\"object\",\"name\":\"LegendItem\",\"id\":\"p1161\",\"attributes\":{\"label\":{\"type\":\"value\",\"value\":\"Circles\"},\"renderers\":[{\"id\":\"p1157\"}]}},{\"type\":\"object\",\"name\":\"LegendItem\",\"id\":\"p1171\",\"attributes\":{\"label\":{\"type\":\"value\",\"value\":\"Line\"},\"renderers\":[{\"id\":\"p1168\"}]}},{\"type\":\"object\",\"name\":\"LegendItem\",\"id\":\"p1181\",\"attributes\":{\"label\":{\"type\":\"value\",\"value\":\"Rectangles\"},\"renderers\":[{\"id\":\"p1178\"}]}}]}}]}}]}};\n  const render_items = [{\"docid\":\"64d3a332-45d6-4b6d-842c-51727114de01\",\"roots\":{\"p1122\":\"f927f170-4a98-4f12-9a1c-6efb55e12d86\"},\"root_ids\":[\"p1122\"]}];\n  root.Bokeh.embed.embed_items_notebook(docs_json, render_items);\n  }\n  if (root.Bokeh !== undefined) {\n    embed_document(root);\n  } else {\n    let attempts = 0;\n    const timer = setInterval(function(root) {\n      if (root.Bokeh !== undefined) {\n        clearInterval(timer);\n        embed_document(root);\n      } else {\n        attempts++;\n        if (attempts > 100) {\n          clearInterval(timer);\n          console.log(\"Bokeh: ERROR: Unable to run BokehJS code because BokehJS library is missing\");\n        }\n      }\n    }, 10, root)\n  }\n})(window);",
      "application/vnd.bokehjs_exec.v0+json": ""
     },
     "metadata": {
      "application/vnd.bokehjs_exec.v0+json": {
       "id": "p1122"
      }
     },
     "output_type": "display_data"
    }
   ],
   "source": [
    "from bokeh.plotting import figure, show\n",
    "import numpy as np\n",
    "\n",
    "# Create data\n",
    "x = np.random.random(100)\n",
    "y = np.random.random(100)\n",
    "\n",
    "# Create a figure\n",
    "p = figure(title=\"Bokeh Plot with Glyphs\")\n",
    "\n",
    "# Add circles glyph\n",
    "p.circle(x, y, size=8, color=\"blue\", alpha=0.5, legend_label=\"Circles\")\n",
    "\n",
    "# Add line glyph\n",
    "p.line(x, y, line_width=2, color=\"red\", alpha=0.8, legend_label=\"Line\")\n",
    "\n",
    "# Add rectangles glyph\n",
    "p.rect(x, y, width=0.1, height=0.1, angle=np.pi/4, color=\"green\", alpha=0.6, legend_label=\"Rectangles\")\n",
    "\n",
    "# Customize the plot\n",
    "p.xaxis.axis_label = \"X-axis\"\n",
    "p.yaxis.axis_label = \"Y-axis\"\n",
    "p.legend.title = \"Glyphs\"\n",
    "\n",
    "# Show the plot\n",
    "show(p)\n"
   ]
  },
  {
   "cell_type": "markdown",
   "metadata": {},
   "source": [
    "**Q3.** How can you customize the appearance of a Bokeh plot, including the axes, title, and legend?"
   ]
  },
  {
   "cell_type": "markdown",
   "metadata": {},
   "source": [
    "**Customizing Axes:**\n",
    "\n",
    "Modify axis attributes to customize appearance.\n",
    "\n",
    "Access x-axis and y-axis using p.xaxis and p.yaxis.\n",
    "\n",
    "Examples:\n",
    "\n",
    "Set axis labels: p.xaxis.axis_label = \"X-axis Label\"\n",
    "\n",
    "Change tick label color: p.xaxis.major_label_text_color = \"red\"\n",
    "\n",
    "\n",
    "**Customizing Title:**\n",
    "\n",
    "Customize plot title using p.title.\n",
    "\n",
    "Examples:\n",
    "\n",
    "Set title text: p.title.text = \"Custom Plot Title\"\n",
    "\n",
    "Change title color: p.title.text_color = \"blue\"\n",
    "\n",
    "Set title font style: p.title.text_font_style = \"italic\"\n",
    "\n",
    "\n",
    "**Customizing Legend:**\n",
    "\n",
    "Customize legend appearance using p.legend.\n",
    "\n",
    "Access properties like title, label_text_font_size, etc.\n",
    "\n",
    "Examples:\n",
    "\n",
    "Set legend title: p.legend.title = \"Custom Legend Title\"\n",
    "\n",
    "Change legend label font size: p.legend.label_text_font_size = \"12pt\""
   ]
  },
  {
   "cell_type": "code",
   "execution_count": 9,
   "metadata": {},
   "outputs": [
    {
     "data": {
      "text/html": [
       "\n",
       "  <div id=\"a554c2f4-5f31-4731-aa1f-5be3250b9055\" data-root-id=\"p1314\" style=\"display: contents;\"></div>\n"
      ]
     },
     "metadata": {},
     "output_type": "display_data"
    },
    {
     "data": {
      "application/javascript": "(function(root) {\n  function embed_document(root) {\n  const docs_json = {\"2322b851-a656-43c6-afdd-e0eb7246d93c\":{\"version\":\"3.2.1\",\"title\":\"Bokeh Application\",\"roots\":[{\"type\":\"object\",\"name\":\"Figure\",\"id\":\"p1314\",\"attributes\":{\"width\":800,\"height\":400,\"x_range\":{\"type\":\"object\",\"name\":\"DataRange1d\",\"id\":\"p1315\"},\"y_range\":{\"type\":\"object\",\"name\":\"DataRange1d\",\"id\":\"p1316\"},\"x_scale\":{\"type\":\"object\",\"name\":\"LinearScale\",\"id\":\"p1324\"},\"y_scale\":{\"type\":\"object\",\"name\":\"LinearScale\",\"id\":\"p1325\"},\"title\":{\"type\":\"object\",\"name\":\"Title\",\"id\":\"p1317\",\"attributes\":{\"text\":\"Sine Curve Plot\",\"text_color\":\"green\",\"text_font_size\":\"20pt\",\"text_font_style\":\"italic\"}},\"renderers\":[{\"type\":\"object\",\"name\":\"GlyphRenderer\",\"id\":\"p1349\",\"attributes\":{\"data_source\":{\"type\":\"object\",\"name\":\"ColumnDataSource\",\"id\":\"p1343\",\"attributes\":{\"selected\":{\"type\":\"object\",\"name\":\"Selection\",\"id\":\"p1344\",\"attributes\":{\"indices\":[],\"line_indices\":[]}},\"selection_policy\":{\"type\":\"object\",\"name\":\"UnionRenderers\",\"id\":\"p1345\"},\"data\":{\"type\":\"map\",\"entries\":[[\"x\",{\"type\":\"ndarray\",\"array\":{\"type\":\"bytes\",\"data\":\"AAAAAAAAAAAxb2dIzNu5PzFvZ0jM28k/ZZNNNtlk0z8xb2dIzNvZP3+lQK1fKeA/ZZNNNtlk4z9LgVq/UqDmPzFvZ0jM2+k/F1100UUX7T9/pUCtXynwP3Icx3Ecx/E/ZZNNNtlk8z9YCtT6lQL1P0uBWr9SoPY/Pvjggw8++D8xb2dIzNv5PyTm7QyJefs/F1100UUX/T8K1PqVArX+P3+lQK1fKQBA+OCDDz74AEByHMdxHMcBQOtXCtT6lQJAZZNNNtlkA0DezpCYtzMEQFgK1PqVAgVA0UUXXXTRBUBLgVq/UqAGQMS8nSExbwdAPvjggw8+CEC3MyTm7QwJQDFvZ0jM2wlAq6qqqqqqCkAk5u0MiXkLQJ4hMW9nSAxAF1100UUXDUCRmLczJOYNQArU+pUCtQ5AhA8++OCDD0B/pUCtXykQQDtDYt7OkBBA+OCDDz74EEC1fqVArV8RQHIcx3EcxxFALrrooosuEkDrVwrU+pUSQKj1KwVq/RJAZZNNNtlkE0AiMW9nSMwTQN7OkJi3MxRAm2yyySabFEBYCtT6lQIVQBWo9SsFahVA0UUXXXTRFUCO4ziO4zgWQEuBWr9SoBZACB988MEHF0DEvJ0hMW8XQIFav1Kg1hdAPvjggw8+GED7lQK1fqUYQLczJObtDBlAdNFFF110GUAxb2dIzNsZQO4MiXk7QxpAq6qqqqqqGkBnSMzbGRIbQCTm7QyJeRtA4YMPPvjgG0CeITFvZ0gcQFq/UqDWrxxAF1100UUXHUDU+pUCtX4dQJGYtzMk5h1ATTbZZJNNHkAK1PqVArUeQMdxHMdxHB9AhA8++OCDH0BArV8pUOsfQH+lQK1fKSBAXXTRRRddIEA7Q2LezpAgQBoS83aGxCBA+OCDDz74IEDXrxSo9SshQLV+pUCtXyFAk0022WSTIUByHMdxHMchQFDrVwrU+iFALrrooosuIkANiXk7Q2IiQOtXCtT6lSJAyiabbLLJIkCo9SsFav0iQIbEvJ0hMSNAZZNNNtlkI0BDYt7OkJgjQCIxb2dIzCNAAAAAAAAAJEA=\"},\"shape\":[100],\"dtype\":\"float64\",\"order\":\"little\"}],[\"y\",{\"type\":\"ndarray\",\"array\":{\"type\":\"bytes\",\"data\":\"AAAAAAAAAABWWTD1i9C5P1FTX5rcrsk/gsOxNjYZ0z9VYwJ3JinZPxcA895s994/joZ7TnE64j/qrfXjmcnkP2ssuWGCIuc/Iswnjgo/6T+RI+TArxnrP1BTS0Sbrew/3oUw9q727T8Xi+UGkPHuP/kGhbqvm+8/OPqkFVLz7z8TWwZkkvfvP5TacY1lqO8/kSusMpoG7z8wOzaS1hPuPz2qWDqU0uw/jV22kxlG6z8pMUFVcXLpP4gS3/dfXOc/1MdGRVcJ5T/m1IwiaH/iP8q16nZlit8/8e22b6rD2T9j8JxQsrnTPwFWfWl/+Mo/+7miP25uvD8ew57TVQ2FP7c2U+b2Mbe/NJcb8IdkyL+cMtDaNXjSv4gGHUH0jdi/BM5I1Z1j3r8dASM//PThv5J0Xo5MieS/fMX9lQTo5r9AD0Xy9Arpv5gfWUKK7Oq/hEBctduH7L9UjGrat9jtv9nTBZKv2+6/Gw5iBB+O778QwS6FNO7vv7NU4lL1+u+/vLAjJUC0778fSaaDzRrvv6PqleQtMO6/ehV7l8X27L+nYD+HxnHrv2I/nOMnpem/D922x5uV57/CVOv4gkjlv1aewt3ew+K/ZCe00UEO4L8DKjT9e13av93iNNGlWdS/wgS4cmdBzL8fFrKmiwu/v2He8+4MDZW/u4zZNsGStD+7ZD9aihnHP7P36Je11tE/W/DDABjy1z9jyIBZ/M7dP8e6gdUKr+E/qWzMAXFI5D//7Lop6KzmP7yvSOox1ug/Al+5UKq+6j+T7POSVmHsP14AZw7yue0/UWGMa/nE7j/0lfnIs3/vP+x2ENY56O8/b1zFynr97z+a4IMvP7/vP+dX8G0pLu8/1DgMKbRL7j8lnQ9hLhrtP1CyCm21nOs/N08I2izX6T+2POhENM7nPxy7bUkbh+U/z6j/pdMH4z+wXUa44VbgP6UpR/aW9to/VbjOZAz51D8WLl/Qi4nNP2bQXAjp08A//1m7LN2Snz/o7+kO/fKxv37G6czszcW/VIdizLk00b98w03tlVXXvzzw4HCMOd2/Uk/z9Z5o4b8=\"},\"shape\":[100],\"dtype\":\"float64\",\"order\":\"little\"}]]}}},\"view\":{\"type\":\"object\",\"name\":\"CDSView\",\"id\":\"p1350\",\"attributes\":{\"filter\":{\"type\":\"object\",\"name\":\"AllIndices\",\"id\":\"p1351\"}}},\"glyph\":{\"type\":\"object\",\"name\":\"Line\",\"id\":\"p1346\",\"attributes\":{\"x\":{\"type\":\"field\",\"field\":\"x\"},\"y\":{\"type\":\"field\",\"field\":\"y\"},\"line_color\":\"blue\",\"line_width\":2}},\"nonselection_glyph\":{\"type\":\"object\",\"name\":\"Line\",\"id\":\"p1347\",\"attributes\":{\"x\":{\"type\":\"field\",\"field\":\"x\"},\"y\":{\"type\":\"field\",\"field\":\"y\"},\"line_color\":\"blue\",\"line_alpha\":0.1,\"line_width\":2}},\"muted_glyph\":{\"type\":\"object\",\"name\":\"Line\",\"id\":\"p1348\",\"attributes\":{\"x\":{\"type\":\"field\",\"field\":\"x\"},\"y\":{\"type\":\"field\",\"field\":\"y\"},\"line_color\":\"blue\",\"line_alpha\":0.2,\"line_width\":2}}}}],\"toolbar\":{\"type\":\"object\",\"name\":\"Toolbar\",\"id\":\"p1323\",\"attributes\":{\"tools\":[{\"type\":\"object\",\"name\":\"PanTool\",\"id\":\"p1336\"},{\"type\":\"object\",\"name\":\"WheelZoomTool\",\"id\":\"p1337\"},{\"type\":\"object\",\"name\":\"BoxZoomTool\",\"id\":\"p1338\",\"attributes\":{\"overlay\":{\"type\":\"object\",\"name\":\"BoxAnnotation\",\"id\":\"p1339\",\"attributes\":{\"syncable\":false,\"level\":\"overlay\",\"visible\":false,\"left_units\":\"canvas\",\"right_units\":\"canvas\",\"bottom_units\":\"canvas\",\"top_units\":\"canvas\",\"line_color\":\"black\",\"line_alpha\":1.0,\"line_width\":2,\"line_dash\":[4,4],\"fill_color\":\"lightgrey\",\"fill_alpha\":0.5}}}},{\"type\":\"object\",\"name\":\"SaveTool\",\"id\":\"p1340\"},{\"type\":\"object\",\"name\":\"ResetTool\",\"id\":\"p1341\"},{\"type\":\"object\",\"name\":\"HelpTool\",\"id\":\"p1342\"}]}},\"left\":[{\"type\":\"object\",\"name\":\"LinearAxis\",\"id\":\"p1331\",\"attributes\":{\"ticker\":{\"type\":\"object\",\"name\":\"BasicTicker\",\"id\":\"p1332\",\"attributes\":{\"mantissas\":[1,2,5]}},\"formatter\":{\"type\":\"object\",\"name\":\"BasicTickFormatter\",\"id\":\"p1333\"},\"axis_label\":\"Y-axis\",\"axis_label_text_font_style\":\"bold\",\"major_label_policy\":{\"type\":\"object\",\"name\":\"AllLabels\",\"id\":\"p1334\"},\"major_label_text_color\":\"red\"}}],\"below\":[{\"type\":\"object\",\"name\":\"LinearAxis\",\"id\":\"p1326\",\"attributes\":{\"ticker\":{\"type\":\"object\",\"name\":\"BasicTicker\",\"id\":\"p1327\",\"attributes\":{\"mantissas\":[1,2,5]}},\"formatter\":{\"type\":\"object\",\"name\":\"BasicTickFormatter\",\"id\":\"p1328\"},\"axis_label\":\"X-axis\",\"axis_label_text_font_style\":\"bold\",\"major_label_policy\":{\"type\":\"object\",\"name\":\"AllLabels\",\"id\":\"p1329\"},\"major_label_text_color\":\"green\"}}],\"center\":[{\"type\":\"object\",\"name\":\"Grid\",\"id\":\"p1330\",\"attributes\":{\"axis\":{\"id\":\"p1326\"}}},{\"type\":\"object\",\"name\":\"Grid\",\"id\":\"p1335\",\"attributes\":{\"dimension\":1,\"axis\":{\"id\":\"p1331\"}}},{\"type\":\"object\",\"name\":\"Legend\",\"id\":\"p1352\",\"attributes\":{\"title\":\"Legend\",\"label_text_font_size\":\"12pt\",\"items\":[{\"type\":\"object\",\"name\":\"LegendItem\",\"id\":\"p1353\",\"attributes\":{\"label\":{\"type\":\"value\",\"value\":\"Sine Curve\"},\"renderers\":[{\"id\":\"p1349\"}]}}]}}]}}]}};\n  const render_items = [{\"docid\":\"2322b851-a656-43c6-afdd-e0eb7246d93c\",\"roots\":{\"p1314\":\"a554c2f4-5f31-4731-aa1f-5be3250b9055\"},\"root_ids\":[\"p1314\"]}];\n  root.Bokeh.embed.embed_items_notebook(docs_json, render_items);\n  }\n  if (root.Bokeh !== undefined) {\n    embed_document(root);\n  } else {\n    let attempts = 0;\n    const timer = setInterval(function(root) {\n      if (root.Bokeh !== undefined) {\n        clearInterval(timer);\n        embed_document(root);\n      } else {\n        attempts++;\n        if (attempts > 100) {\n          clearInterval(timer);\n          console.log(\"Bokeh: ERROR: Unable to run BokehJS code because BokehJS library is missing\");\n        }\n      }\n    }, 10, root)\n  }\n})(window);",
      "application/vnd.bokehjs_exec.v0+json": ""
     },
     "metadata": {
      "application/vnd.bokehjs_exec.v0+json": {
       "id": "p1314"
      }
     },
     "output_type": "display_data"
    }
   ],
   "source": [
    "from bokeh.plotting import figure, show\n",
    "import numpy as np\n",
    "\n",
    "# Create data\n",
    "x = np.linspace(0, 10, 100)\n",
    "y = np.sin(x)\n",
    "\n",
    "# Create a figure\n",
    "p = figure(title=\"Customized Bokeh Plot\", width=800, height=400)\n",
    "\n",
    "# Add a line glyph\n",
    "p.line(x, y, line_width=2, color=\"blue\", legend_label=\"Sine Curve\")\n",
    "\n",
    "# Customize axes\n",
    "p.xaxis.axis_label = \"X-axis\"\n",
    "p.yaxis.axis_label = \"Y-axis\"\n",
    "p.xaxis.major_label_text_color = \"green\"\n",
    "p.yaxis.major_label_text_color = \"red\"\n",
    "p.xaxis.axis_label_text_font_style = \"bold\"\n",
    "p.yaxis.axis_label_text_font_style = \"bold\"\n",
    "\n",
    "# Customize title\n",
    "p.title.text = \"Sine Curve Plot\"\n",
    "p.title.text_color = \"green\"\n",
    "p.title.text_font_style = \"italic\"\n",
    "p.title.text_font_size = \"20pt\"\n",
    "\n",
    "# Customize legend\n",
    "p.legend.title = \"Legend\"\n",
    "p.legend.label_text_font_size = \"12pt\"\n",
    "\n",
    "# Show the plot\n",
    "show(p)\n"
   ]
  },
  {
   "cell_type": "markdown",
   "metadata": {},
   "source": [
    "**Q4.** What is a Bokeh server, and how can you use it to create interactive plots that can be updated in\n",
    "real time?"
   ]
  },
  {
   "cell_type": "markdown",
   "metadata": {},
   "source": [
    "**Bokeh Server:**\n",
    "\n",
    "Bokeh server enables interactive web applications with dynamic, real-time updates.\n",
    "\n",
    "**Steps:**\n",
    "\n",
    "**Create a Bokeh App:**\n",
    "\n",
    "Define a function that generates the plot and handles interactions.\n",
    "\n",
    "**Widgets and Callbacks:**\n",
    "\n",
    "Create widgets (e.g., sliders) for user interaction.\n",
    "\n",
    "Define callbacks that update plot data based on widget changes.\n",
    "\n",
    "**Layout:**\n",
    "\n",
    "Arrange plot and widgets in a layout using Bokeh's layout functions.\n",
    "\n",
    "**Serve:**\n",
    "\n",
    "Run the Bokeh server with bokeh serve from the command line.\n",
    "\n",
    "Access the app in a web browser.\n",
    "\n",
    "**Benefits:**\n",
    "\n",
    "Achieve dynamic visualizations that respond to user actions.\n",
    "\n",
    "Ideal for building interactive dashboards, tools, and real-time data apps.\n",
    "\n",
    "\n",
    "\n"
   ]
  },
  {
   "cell_type": "markdown",
   "metadata": {},
   "source": [
    "**Q5.** How can you embed a Bokeh plot into a web page or dashboard using Flask or Django?"
   ]
  },
  {
   "cell_type": "markdown",
   "metadata": {},
   "source": [
    "**Embedding a Bokeh Plot with Flask:**\n",
    "\n",
    "**Install Flask:**\n",
    "\n",
    "Install Flask using pip install flask.\n",
    "\n",
    "**Create a Flask App:**\n",
    "\n",
    "Define routes and views in your Flask app.\n",
    "\n",
    "**Generate Bokeh Plot:**\n",
    "\n",
    "Use Bokeh's APIs to create the desired Bokeh plot.\n",
    "\n",
    "**Convert to HTML:**\n",
    "\n",
    "Convert the Bokeh plot into JavaScript and HTML components using bokeh.embed.components().\n",
    "\n",
    "**Render Plot in Template:**\n",
    "\n",
    "In a Flask template, render the Bokeh plot's HTML and JavaScript components.\n",
    "\n",
    "**Run the Flask App:**\n",
    "\n",
    "Run your Flask app and access the page with the embedded Bokeh plot.\n",
    "\n",
    "\n",
    "**Embedding a Bokeh Plot with Django:**\n",
    "\n",
    "**Install Django:**\n",
    "\n",
    "Install Django using pip install django.\n",
    "\n",
    "**Create Project and App:**\n",
    "\n",
    "Create a Django project and app where you'll embed the Bokeh plot.\n",
    "\n",
    "**Create Bokeh Plot:**\n",
    "\n",
    "Use Bokeh's APIs to generate the desired Bokeh plot.\n",
    "\n",
    "**Convert to HTML:**\n",
    "\n",
    "Convert the Bokeh plot into JavaScript and HTML components using bokeh.embed.components().\n",
    "\n",
    "**Create Django Template:**\n",
    "\n",
    "Create a Django template that will render the Bokeh plot's components.\n",
    "\n",
    "**Define View:**\n",
    "\n",
    "Define a Django view that renders the Bokeh plot template.\n",
    "\n",
    "**Run Django Server:**\n",
    "\n",
    "Run your Django development server and access the page with the embedded Bokeh plot."
   ]
  }
 ],
 "metadata": {
  "kernelspec": {
   "display_name": "Python 3",
   "language": "python",
   "name": "python3"
  },
  "language_info": {
   "codemirror_mode": {
    "name": "ipython",
    "version": 3
   },
   "file_extension": ".py",
   "mimetype": "text/x-python",
   "name": "python",
   "nbconvert_exporter": "python",
   "pygments_lexer": "ipython3",
   "version": "3.11.1"
  },
  "orig_nbformat": 4
 },
 "nbformat": 4,
 "nbformat_minor": 2
}
